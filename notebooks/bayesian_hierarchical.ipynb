{
 "cells": [
  {
   "cell_type": "code",
   "execution_count": 1,
   "id": "6563ba98",
   "metadata": {},
   "outputs": [
    {
     "name": "stdout",
     "output_type": "stream",
     "text": [
      "GRAPHVIZ_DOT: C:\\Program Files\\Graphviz\\bin\\dot.exe\n",
      "shutil.which('dot') -> C:\\Program Files\\Graphviz\\bin\\dot.EXE\n"
     ]
    }
   ],
   "source": [
    "import os, shutil\n",
    "# point to the Program Files Graphviz dot.exe you validated\n",
    "os.environ['GRAPHVIZ_DOT'] = r\"C:\\Program Files\\Graphviz\\bin\\dot.exe\"\n",
    "\n",
    "# Optional: ensure the process PATH prefers the same Graphviz bin directory\n",
    "gv_bin = r\"C:\\Program Files\\Graphviz\\bin\"\n",
    "os.environ['PATH'] = gv_bin + os.pathsep + os.environ.get('PATH', '')\n",
    "\n",
    "# Sanity checks\n",
    "print(\"GRAPHVIZ_DOT:\", os.environ.get('GRAPHVIZ_DOT'))\n",
    "print(\"shutil.which('dot') ->\", shutil.which('dot'))"
   ]
  },
  {
   "cell_type": "code",
   "execution_count": 2,
   "id": "39d727df",
   "metadata": {},
   "outputs": [
    {
     "name": "stderr",
     "output_type": "stream",
     "text": [
      "WARNING (pytensor.configdefaults): g++ not available, if using conda: `conda install gxx`\n",
      "WARNING (pytensor.configdefaults): g++ not detected!  PyTensor will be unable to compile C-implementations and will default to Python. Performance may be severely degraded. To remove this warning, set PyTensor flags cxx to an empty string.\n"
     ]
    }
   ],
   "source": [
    "import pymc as pm \n",
    "import arviz as az \n",
    "import pandas as pd \n",
    "import numpy as np\n",
    "import pytensor.tensor as pt\n",
    "import graphviz"
   ]
  },
  {
   "cell_type": "code",
   "execution_count": 3,
   "id": "588a896c",
   "metadata": {},
   "outputs": [
    {
     "data": {
      "text/plain": [
       "Index(['fips', 'county_x', 'state_x', 'mmr_coverage', 'year', 'count',\n",
       "       'had_cases', 'state_fips', 'county_fips', 'state_y', 'county_y',\n",
       "       'population', 'pop_under5', 'pop_5to13', 'pop_14to17', 'pop_18to24',\n",
       "       'pop_25to44', 'pop_45to64', 'pop_65plus', 'area_sqkm', 'area_sqmi',\n",
       "       'pop_density'],\n",
       "      dtype='object')"
      ]
     },
     "execution_count": 3,
     "metadata": {},
     "output_type": "execute_result"
    }
   ],
   "source": [
    "df = pd.read_csv('../data/processed/vax_pop_merged.csv')\n",
    "df.columns"
   ]
  },
  {
   "cell_type": "markdown",
   "id": "bb09299b",
   "metadata": {},
   "source": [
    "Derive IDs and z-scored covariates: "
   ]
  },
  {
   "cell_type": "code",
   "execution_count": 4,
   "id": "a7df1bb9",
   "metadata": {},
   "outputs": [
    {
     "data": {
      "text/plain": [
       "['log_pop_density',\n",
       " 'z_pop_under5',\n",
       " 'z_pop_5to13',\n",
       " 'z_pop_14to17',\n",
       " 'z_pop_18to24',\n",
       " 'z_pop_25to44',\n",
       " 'z_pop_45to64',\n",
       " 'z_pop_65plus',\n",
       " 'z_pop_density']"
      ]
     },
     "execution_count": 4,
     "metadata": {},
     "output_type": "execute_result"
    }
   ],
   "source": [
    "df['state_id'] = df['state_x'].astype('category').cat.codes\n",
    "df['year'] = df['year'].astype('category').cat.codes \n",
    "\n",
    "age_cols = [c for c in df.columns if c.startswith('pop_')]\n",
    "\n",
    "def zscore(x): \n",
    "    mu, sd = np.nanmean(x), np.nanstd(x)\n",
    "    if sd == 0 or np.isnan(sd):\n",
    "        return np.zeros_like(x, dtype=float)\n",
    "    return (x - mu) / sd\n",
    "\n",
    "# For pop density, log1p then z-score\n",
    "df['log_pop_density'] = zscore(np.log1p(df['pop_density']))\n",
    "for col in age_cols:\n",
    "    df[f'z_{col}'] = zscore(df[col])\n",
    "\n",
    "# Final list of covariates\n",
    "X_cols = ['log_pop_density'] + [f'z_{c}' for c in age_cols]\n",
    "X_cols"
   ]
  },
  {
   "cell_type": "markdown",
   "id": "25877d54",
   "metadata": {},
   "source": [
    "Build model arrays: "
   ]
  },
  {
   "cell_type": "code",
   "execution_count": 5,
   "id": "4b49852c",
   "metadata": {},
   "outputs": [
    {
     "data": {
      "text/plain": [
       "(17337, 39, 8, (17337, 9))"
      ]
     },
     "execution_count": 5,
     "metadata": {},
     "output_type": "execute_result"
    }
   ],
   "source": [
    "# Core arrays\n",
    "state_idx = df['state_id'].to_numpy()\n",
    "year_idx = df['year'].to_numpy()\n",
    "pop = df['population'].to_numpy(dtype=float)\n",
    "mmr = df['mmr_coverage'].to_numpy(dtype=float)\n",
    "y_obs = df['count'].to_numpy(dtype=int)\n",
    "\n",
    "# Covariate matrix\n",
    "X = df[X_cols].to_numpy(dtype=float) \n",
    "\n",
    "S = df['state_id'].nunique()\n",
    "T = df['year'].nunique()\n",
    "\n",
    "states = df['state_x'].astype('category').cat.categories.tolist()\n",
    "years = sorted(df['year'].unique().tolist())\n",
    "\n",
    "# Epidemiological constants\n",
    "VE = 0.97           # Vaccine efficacy\n",
    "gamma = 1.0/7.0     # Recovery rate (1/duration of infectiousness)\n",
    "eps = 1e-6          # Small constant to avoid log(0)  \n",
    "\n",
    "len(y_obs), S, T, X.shape"
   ]
  },
  {
   "cell_type": "markdown",
   "id": "8dcc5afd",
   "metadata": {},
   "source": [
    "Specify the PyMC model (transmission --> $R_0$ --> $p_c$)"
   ]
  },
  {
   "cell_type": "code",
   "execution_count": 6,
   "id": "682f6d02",
   "metadata": {},
   "outputs": [],
   "source": [
    "with pm.Model() as bhm: \n",
    "    # Hierarchy on baseline transmission at zero vaccination\n",
    "    mu_log_beta0 = pm.Normal('mu_log_beta0', mu=0.0, sigma=1.0)\n",
    "    sd_log_beta0 = pm.HalfNormal('sd_log_beta0', sigma=0.75)\n",
    "    log_beta0_state = pm.Normal('log_beta0_state', mu=mu_log_beta0, sigma=sd_log_beta0, shape=S)\n",
    "    beta0_state = pm.Deterministic('beta0_state', pt.exp(log_beta0_state))\n",
    "\n",
    "    # Derived R0 per state and overall\n",
    "    R0_state = pm.Deterministic('R0_state', beta0_state / gamma)\n",
    "    pc_state = pm.Deterministic('pc_state', 1.0 - (1.0 / R0_state))\n",
    "    R0_overall = pm.Deterministic('R0_overall', pt.exp(mu_log_beta0) / gamma)\n",
    "    pc_overall = pm.Deterministic('pc_overall', 1.0 - (1.0 / R0_overall)) \n",
    "\n",
    "    # Random intercepts (state + year)\n",
    "    mu_alpha = pm.Normal('mu_alpha', mu=0.0, sigma=2.0)\n",
    "    sd_alpha = pm.HalfNormal('sd_alpha', sigma=1.0)\n",
    "    alpha_state = pm.Normal('alpha_state', mu=mu_alpha, sigma=sd_alpha, shape=S)\n",
    "    sd_year = pm.HalfNormal('sd_year', sigma=1.0)\n",
    "    delta_year = pm.Normal('delta_year', mu=0.0, sigma=sd_year, shape=T)\n",
    "\n",
    "    # Additive covariates\n",
    "    beta = pm.Normal('beta', mu=0.0, sigma=1.0, shape=X.shape[1])\n",
    "\n",
    "    # Effective transmission and Re per row \n",
    "    susceptible_frac = 1.0 - (VE * mmr)\n",
    "    beta_eff = beta0_state[state_idx] * susceptible_frac\n",
    "    Re = pm.Deterministic('Re', beta_eff / gamma)\n",
    "    log_Re = pt.log(Re) \n",
    "\n",
    "    # Strength of Re --> incidence (center near 1)\n",
    "    kappa = pm.Normal('kappa', mu=1.0, sigma=0.5)\n",
    "\n",
    "    # Linear predictor (rate model): log(mu) = log(pop) + linpred \n",
    "    linpred = alpha_state[state_idx] + delta_year[year_idx] + kappa * log_Re + (X @ beta)\n",
    "    mu = pt.exp(pt.log(pop) + linpred)\n",
    "\n",
    "    # Negative binomial likelihood \n",
    "    phi = pm.Gamma('phi', alpha=2.0, beta=0.1)\n",
    "    y = pm.NegativeBinomial('y', mu=mu, alpha=phi, observed=y_obs)"
   ]
  },
  {
   "cell_type": "code",
   "execution_count": 7,
   "id": "725b6b9f",
   "metadata": {},
   "outputs": [
    {
     "name": "stdout",
     "output_type": "stream",
     "text": [
      "<class 'graphviz.graphs.Digraph'>\n",
      "digraph {\n",
      "\tsd_log_beta0 [label=\"sd_log_beta0\n",
      "~\n",
      "HalfNormal\" shape=ellipse]\n",
      "\tpc_overall [label=\"pc_overall\n",
      "~\n",
      "Deterministic\" shape=box]\n",
      "\tkappa [label=\"kappa\n",
      "~\n",
      "Normal\" shape=ellipse]\n",
      "\tsd_year [label=\"sd_year\n",
      "~\n",
      "HalfNormal\" shape=ellipse]\n",
      "\tmu_alpha [label=\"mu_alpha\n",
      "~\n",
      "Normal\" shape=ellipse]\n",
      "\tmu_log_beta0 [label=\"mu_log_beta0\n",
      "~\n",
      "Normal\" shape=ellipse]\n",
      "\tR0_overall [label=\"R0_overall\n",
      "~\n",
      "Deterministic\" shape=box]\n",
      "\tphi [label=\"phi\n",
      "~\n",
      "Gamma\" shape=ellipse]\n",
      "\tsd_alpha [label=\"sd_alpha\n",
      "~\n",
      "HalfNormal\" shape=ellipse]\n",
      "\tsubgraph cluster39 {\n",
      "\t\tpc_state [label=\"pc_state\n",
      "~\n",
      "Deterministic\" shape=box]\n",
      "\t\tlog_beta0_state [label=\"log_beta0_state\n",
      "~\n",
      "Normal\" shape=ellipse]\n",
      "\t\tR0_state [label=\"R0_state\n",
      "~\n",
      "Deterministic\" shape=box]\n",
      "\t\tbeta0_state [label=\"beta0_state\n",
      "~\n",
      "Deterministic\" shape=box]\n",
      "\t\talpha_state [label=\"alpha_state\n",
      "~\n",
      "\n",
      "Rendered bytes: 124809\n"
     ]
    }
   ],
   "source": [
    "import pymc as pm\n",
    "# rebuild or reopen your model object `bhm` if needed, then:\n",
    "gv = pm.model_to_graphviz(bhm)\n",
    "print(type(gv))\n",
    "print(gv.source[:800])\n",
    "png = gv.pipe(format='png')\n",
    "print(\"Rendered bytes:\", len(png))"
   ]
  },
  {
   "cell_type": "code",
   "execution_count": 8,
   "id": "8554dfde",
   "metadata": {},
   "outputs": [
    {
     "data": {
      "image/svg+xml": [
       "<?xml version=\"1.0\" encoding=\"UTF-8\" standalone=\"no\"?>\n",
       "<!DOCTYPE svg PUBLIC \"-//W3C//DTD SVG 1.1//EN\"\n",
       " \"http://www.w3.org/Graphics/SVG/1.1/DTD/svg11.dtd\">\n",
       "<!-- Generated by graphviz version 14.0.2 (20251019.1705)\n",
       " -->\n",
       "<!-- Pages: 1 -->\n",
       "<svg width=\"1026pt\" height=\"604pt\"\n",
       " viewBox=\"0.00 0.00 1026.00 604.00\" xmlns=\"http://www.w3.org/2000/svg\" xmlns:xlink=\"http://www.w3.org/1999/xlink\">\n",
       "<g id=\"graph0\" class=\"graph\" transform=\"scale(1 1) rotate(0) translate(4 599.59)\">\n",
       "<polygon fill=\"white\" stroke=\"none\" points=\"-4,4 -4,-599.59 1022.5,-599.59 1022.5,4 -4,4\"/>\n",
       "<g id=\"clust1\" class=\"cluster\">\n",
       "<title>cluster39</title>\n",
       "<path fill=\"none\" stroke=\"black\" d=\"M121.5,-19.91C121.5,-19.91 382.5,-19.91 382.5,-19.91 388.5,-19.91 394.5,-25.91 394.5,-31.91 394.5,-31.91 394.5,-474.27 394.5,-474.27 394.5,-480.27 388.5,-486.27 382.5,-486.27 382.5,-486.27 121.5,-486.27 121.5,-486.27 115.5,-486.27 109.5,-480.27 109.5,-474.27 109.5,-474.27 109.5,-31.91 109.5,-31.91 109.5,-25.91 115.5,-19.91 121.5,-19.91\"/>\n",
       "<text xml:space=\"preserve\" text-anchor=\"middle\" x=\"379.75\" y=\"-27.11\" font-family=\"Times New Roman,serif\" font-size=\"14.00\">39</text>\n",
       "</g>\n",
       "<g id=\"clust2\" class=\"cluster\">\n",
       "<title>cluster8</title>\n",
       "<path fill=\"none\" stroke=\"black\" d=\"M798.5,-129.82C798.5,-129.82 892.5,-129.82 892.5,-129.82 898.5,-129.82 904.5,-135.82 904.5,-141.82 904.5,-141.82 904.5,-239.63 904.5,-239.63 904.5,-245.63 898.5,-251.63 892.5,-251.63 892.5,-251.63 798.5,-251.63 798.5,-251.63 792.5,-251.63 786.5,-245.63 786.5,-239.63 786.5,-239.63 786.5,-141.82 786.5,-141.82 786.5,-135.82 792.5,-129.82 798.5,-129.82\"/>\n",
       "<text xml:space=\"preserve\" text-anchor=\"middle\" x=\"893.12\" y=\"-137.02\" font-family=\"Times New Roman,serif\" font-size=\"14.00\">8</text>\n",
       "</g>\n",
       "<g id=\"clust3\" class=\"cluster\">\n",
       "<title>cluster9</title>\n",
       "<path fill=\"none\" stroke=\"black\" d=\"M924.5,-129.82C924.5,-129.82 998.5,-129.82 998.5,-129.82 1004.5,-129.82 1010.5,-135.82 1010.5,-141.82 1010.5,-141.82 1010.5,-239.63 1010.5,-239.63 1010.5,-245.63 1004.5,-251.63 998.5,-251.63 998.5,-251.63 924.5,-251.63 924.5,-251.63 918.5,-251.63 912.5,-245.63 912.5,-239.63 912.5,-239.63 912.5,-141.82 912.5,-141.82 912.5,-135.82 918.5,-129.82 924.5,-129.82\"/>\n",
       "<text xml:space=\"preserve\" text-anchor=\"middle\" x=\"999.12\" y=\"-137.02\" font-family=\"Times New Roman,serif\" font-size=\"14.00\">9</text>\n",
       "</g>\n",
       "<g id=\"clust4\" class=\"cluster\">\n",
       "<title>cluster17337</title>\n",
       "<path fill=\"none\" stroke=\"black\" d=\"M414.5,-8C414.5,-8 532.5,-8 532.5,-8 538.5,-8 544.5,-14 544.5,-20 544.5,-20 544.5,-227.73 544.5,-227.73 544.5,-233.73 538.5,-239.73 532.5,-239.73 532.5,-239.73 414.5,-239.73 414.5,-239.73 408.5,-239.73 402.5,-233.73 402.5,-227.73 402.5,-227.73 402.5,-20 402.5,-20 402.5,-14 408.5,-8 414.5,-8\"/>\n",
       "<text xml:space=\"preserve\" text-anchor=\"middle\" x=\"519.62\" y=\"-15.2\" font-family=\"Times New Roman,serif\" font-size=\"14.00\">17337</text>\n",
       "</g>\n",
       "<!-- sd_log_beta0 -->\n",
       "<g id=\"node1\" class=\"node\">\n",
       "<title>sd_log_beta0</title>\n",
       "<ellipse fill=\"none\" stroke=\"black\" cx=\"315.5\" cy=\"-554.93\" rx=\"62.23\" ry=\"40.66\"/>\n",
       "<text xml:space=\"preserve\" text-anchor=\"middle\" x=\"315.5\" y=\"-566.38\" font-family=\"Times New Roman,serif\" font-size=\"14.00\">sd_log_beta0</text>\n",
       "<text xml:space=\"preserve\" text-anchor=\"middle\" x=\"315.5\" y=\"-549.88\" font-family=\"Times New Roman,serif\" font-size=\"14.00\">~</text>\n",
       "<text xml:space=\"preserve\" text-anchor=\"middle\" x=\"315.5\" y=\"-533.38\" font-family=\"Times New Roman,serif\" font-size=\"14.00\">HalfNormal</text>\n",
       "</g>\n",
       "<!-- log_beta0_state -->\n",
       "<g id=\"node11\" class=\"node\">\n",
       "<title>log_beta0_state</title>\n",
       "<ellipse fill=\"none\" stroke=\"black\" cx=\"315.5\" cy=\"-437.61\" rx=\"71.24\" ry=\"40.66\"/>\n",
       "<text xml:space=\"preserve\" text-anchor=\"middle\" x=\"315.5\" y=\"-449.06\" font-family=\"Times New Roman,serif\" font-size=\"14.00\">log_beta0_state</text>\n",
       "<text xml:space=\"preserve\" text-anchor=\"middle\" x=\"315.5\" y=\"-432.56\" font-family=\"Times New Roman,serif\" font-size=\"14.00\">~</text>\n",
       "<text xml:space=\"preserve\" text-anchor=\"middle\" x=\"315.5\" y=\"-416.06\" font-family=\"Times New Roman,serif\" font-size=\"14.00\">Normal</text>\n",
       "</g>\n",
       "<!-- sd_log_beta0&#45;&gt;log_beta0_state -->\n",
       "<g id=\"edge1\" class=\"edge\">\n",
       "<title>sd_log_beta0&#45;&gt;log_beta0_state</title>\n",
       "<path fill=\"none\" stroke=\"black\" d=\"M315.5,-513.92C315.5,-506.14 315.5,-497.88 315.5,-489.8\"/>\n",
       "<polygon fill=\"black\" stroke=\"black\" points=\"319,-490.06 315.5,-480.06 312,-490.06 319,-490.06\"/>\n",
       "</g>\n",
       "<!-- pc_overall -->\n",
       "<g id=\"node2\" class=\"node\">\n",
       "<title>pc_overall</title>\n",
       "<polygon fill=\"none\" stroke=\"black\" points=\"964.62,-349.04 874.37,-349.04 874.37,-291.54 964.62,-291.54 964.62,-349.04\"/>\n",
       "<text xml:space=\"preserve\" text-anchor=\"middle\" x=\"919.5\" y=\"-331.74\" font-family=\"Times New Roman,serif\" font-size=\"14.00\">pc_overall</text>\n",
       "<text xml:space=\"preserve\" text-anchor=\"middle\" x=\"919.5\" y=\"-315.24\" font-family=\"Times New Roman,serif\" font-size=\"14.00\">~</text>\n",
       "<text xml:space=\"preserve\" text-anchor=\"middle\" x=\"919.5\" y=\"-298.74\" font-family=\"Times New Roman,serif\" font-size=\"14.00\">Deterministic</text>\n",
       "</g>\n",
       "<!-- kappa -->\n",
       "<g id=\"node3\" class=\"node\">\n",
       "<title>kappa</title>\n",
       "<ellipse fill=\"none\" stroke=\"black\" cx=\"735.5\" cy=\"-202.98\" rx=\"41.01\" ry=\"40.66\"/>\n",
       "<text xml:space=\"preserve\" text-anchor=\"middle\" x=\"735.5\" y=\"-214.43\" font-family=\"Times New Roman,serif\" font-size=\"14.00\">kappa</text>\n",
       "<text xml:space=\"preserve\" text-anchor=\"middle\" x=\"735.5\" y=\"-197.93\" font-family=\"Times New Roman,serif\" font-size=\"14.00\">~</text>\n",
       "<text xml:space=\"preserve\" text-anchor=\"middle\" x=\"735.5\" y=\"-181.43\" font-family=\"Times New Roman,serif\" font-size=\"14.00\">Normal</text>\n",
       "</g>\n",
       "<!-- y -->\n",
       "<g id=\"node18\" class=\"node\">\n",
       "<title>y</title>\n",
       "<ellipse fill=\"lightgrey\" stroke=\"black\" cx=\"473.5\" cy=\"-81.16\" rx=\"63.29\" ry=\"40.66\"/>\n",
       "<text xml:space=\"preserve\" text-anchor=\"middle\" x=\"473.5\" y=\"-92.61\" font-family=\"Times New Roman,serif\" font-size=\"14.00\">y</text>\n",
       "<text xml:space=\"preserve\" text-anchor=\"middle\" x=\"473.5\" y=\"-76.11\" font-family=\"Times New Roman,serif\" font-size=\"14.00\">~</text>\n",
       "<text xml:space=\"preserve\" text-anchor=\"middle\" x=\"473.5\" y=\"-59.61\" font-family=\"Times New Roman,serif\" font-size=\"14.00\">NegBinomial</text>\n",
       "</g>\n",
       "<!-- kappa&#45;&gt;y -->\n",
       "<g id=\"edge13\" class=\"edge\">\n",
       "<title>kappa&#45;&gt;y</title>\n",
       "<path fill=\"none\" stroke=\"black\" d=\"M715.94,-166.76C706.82,-153.32 694.79,-139.04 680.5,-129.82 641.04,-104.36 589.63,-92.44 547.91,-86.88\"/>\n",
       "<polygon fill=\"black\" stroke=\"black\" points=\"548.55,-83.44 538.2,-85.7 547.7,-90.39 548.55,-83.44\"/>\n",
       "</g>\n",
       "<!-- sd_year -->\n",
       "<g id=\"node4\" class=\"node\">\n",
       "<title>sd_year</title>\n",
       "<ellipse fill=\"none\" stroke=\"black\" cx=\"798.5\" cy=\"-320.29\" rx=\"57.98\" ry=\"40.66\"/>\n",
       "<text xml:space=\"preserve\" text-anchor=\"middle\" x=\"798.5\" y=\"-331.74\" font-family=\"Times New Roman,serif\" font-size=\"14.00\">sd_year</text>\n",
       "<text xml:space=\"preserve\" text-anchor=\"middle\" x=\"798.5\" y=\"-315.24\" font-family=\"Times New Roman,serif\" font-size=\"14.00\">~</text>\n",
       "<text xml:space=\"preserve\" text-anchor=\"middle\" x=\"798.5\" y=\"-298.74\" font-family=\"Times New Roman,serif\" font-size=\"14.00\">HalfNormal</text>\n",
       "</g>\n",
       "<!-- delta_year -->\n",
       "<g id=\"node15\" class=\"node\">\n",
       "<title>delta_year</title>\n",
       "<ellipse fill=\"none\" stroke=\"black\" cx=\"845.5\" cy=\"-202.98\" rx=\"51.09\" ry=\"40.66\"/>\n",
       "<text xml:space=\"preserve\" text-anchor=\"middle\" x=\"845.5\" y=\"-214.43\" font-family=\"Times New Roman,serif\" font-size=\"14.00\">delta_year</text>\n",
       "<text xml:space=\"preserve\" text-anchor=\"middle\" x=\"845.5\" y=\"-197.93\" font-family=\"Times New Roman,serif\" font-size=\"14.00\">~</text>\n",
       "<text xml:space=\"preserve\" text-anchor=\"middle\" x=\"845.5\" y=\"-181.43\" font-family=\"Times New Roman,serif\" font-size=\"14.00\">Normal</text>\n",
       "</g>\n",
       "<!-- sd_year&#45;&gt;delta_year -->\n",
       "<g id=\"edge10\" class=\"edge\">\n",
       "<title>sd_year&#45;&gt;delta_year</title>\n",
       "<path fill=\"none\" stroke=\"black\" d=\"M814.15,-280.89C817.83,-271.85 821.81,-262.09 825.66,-252.66\"/>\n",
       "<polygon fill=\"black\" stroke=\"black\" points=\"828.81,-254.19 829.34,-243.61 822.33,-251.55 828.81,-254.19\"/>\n",
       "</g>\n",
       "<!-- mu_alpha -->\n",
       "<g id=\"node5\" class=\"node\">\n",
       "<title>mu_alpha</title>\n",
       "<ellipse fill=\"none\" stroke=\"black\" cx=\"49.5\" cy=\"-554.93\" rx=\"49.5\" ry=\"40.66\"/>\n",
       "<text xml:space=\"preserve\" text-anchor=\"middle\" x=\"49.5\" y=\"-566.38\" font-family=\"Times New Roman,serif\" font-size=\"14.00\">mu_alpha</text>\n",
       "<text xml:space=\"preserve\" text-anchor=\"middle\" x=\"49.5\" y=\"-549.88\" font-family=\"Times New Roman,serif\" font-size=\"14.00\">~</text>\n",
       "<text xml:space=\"preserve\" text-anchor=\"middle\" x=\"49.5\" y=\"-533.38\" font-family=\"Times New Roman,serif\" font-size=\"14.00\">Normal</text>\n",
       "</g>\n",
       "<!-- alpha_state -->\n",
       "<g id=\"node14\" class=\"node\">\n",
       "<title>alpha_state</title>\n",
       "<ellipse fill=\"none\" stroke=\"black\" cx=\"171.5\" cy=\"-437.61\" rx=\"54.27\" ry=\"40.66\"/>\n",
       "<text xml:space=\"preserve\" text-anchor=\"middle\" x=\"171.5\" y=\"-449.06\" font-family=\"Times New Roman,serif\" font-size=\"14.00\">alpha_state</text>\n",
       "<text xml:space=\"preserve\" text-anchor=\"middle\" x=\"171.5\" y=\"-432.56\" font-family=\"Times New Roman,serif\" font-size=\"14.00\">~</text>\n",
       "<text xml:space=\"preserve\" text-anchor=\"middle\" x=\"171.5\" y=\"-416.06\" font-family=\"Times New Roman,serif\" font-size=\"14.00\">Normal</text>\n",
       "</g>\n",
       "<!-- mu_alpha&#45;&gt;alpha_state -->\n",
       "<g id=\"edge9\" class=\"edge\">\n",
       "<title>mu_alpha&#45;&gt;alpha_state</title>\n",
       "<path fill=\"none\" stroke=\"black\" d=\"M81.55,-523.63C96.46,-509.54 114.37,-492.6 130.28,-477.57\"/>\n",
       "<polygon fill=\"black\" stroke=\"black\" points=\"132.42,-480.36 137.28,-470.95 127.61,-475.28 132.42,-480.36\"/>\n",
       "</g>\n",
       "<!-- mu_log_beta0 -->\n",
       "<g id=\"node6\" class=\"node\">\n",
       "<title>mu_log_beta0</title>\n",
       "<ellipse fill=\"none\" stroke=\"black\" cx=\"690.5\" cy=\"-554.93\" rx=\"66.47\" ry=\"40.66\"/>\n",
       "<text xml:space=\"preserve\" text-anchor=\"middle\" x=\"690.5\" y=\"-566.38\" font-family=\"Times New Roman,serif\" font-size=\"14.00\">mu_log_beta0</text>\n",
       "<text xml:space=\"preserve\" text-anchor=\"middle\" x=\"690.5\" y=\"-549.88\" font-family=\"Times New Roman,serif\" font-size=\"14.00\">~</text>\n",
       "<text xml:space=\"preserve\" text-anchor=\"middle\" x=\"690.5\" y=\"-533.38\" font-family=\"Times New Roman,serif\" font-size=\"14.00\">Normal</text>\n",
       "</g>\n",
       "<!-- R0_overall -->\n",
       "<g id=\"node7\" class=\"node\">\n",
       "<title>R0_overall</title>\n",
       "<polygon fill=\"none\" stroke=\"black\" points=\"849.62,-466.36 759.37,-466.36 759.37,-408.86 849.62,-408.86 849.62,-466.36\"/>\n",
       "<text xml:space=\"preserve\" text-anchor=\"middle\" x=\"804.5\" y=\"-449.06\" font-family=\"Times New Roman,serif\" font-size=\"14.00\">R0_overall</text>\n",
       "<text xml:space=\"preserve\" text-anchor=\"middle\" x=\"804.5\" y=\"-432.56\" font-family=\"Times New Roman,serif\" font-size=\"14.00\">~</text>\n",
       "<text xml:space=\"preserve\" text-anchor=\"middle\" x=\"804.5\" y=\"-416.06\" font-family=\"Times New Roman,serif\" font-size=\"14.00\">Deterministic</text>\n",
       "</g>\n",
       "<!-- mu_log_beta0&#45;&gt;R0_overall -->\n",
       "<g id=\"edge6\" class=\"edge\">\n",
       "<title>mu_log_beta0&#45;&gt;R0_overall</title>\n",
       "<path fill=\"none\" stroke=\"black\" d=\"M724.39,-519.64C738.33,-505.54 754.48,-489.2 768.62,-474.91\"/>\n",
       "<polygon fill=\"black\" stroke=\"black\" points=\"771.07,-477.4 775.61,-467.83 766.09,-472.48 771.07,-477.4\"/>\n",
       "</g>\n",
       "<!-- mu_log_beta0&#45;&gt;log_beta0_state -->\n",
       "<g id=\"edge2\" class=\"edge\">\n",
       "<title>mu_log_beta0&#45;&gt;log_beta0_state</title>\n",
       "<path fill=\"none\" stroke=\"black\" d=\"M631.49,-535.78C565.77,-515.57 459.46,-482.88 388.54,-461.07\"/>\n",
       "<polygon fill=\"black\" stroke=\"black\" points=\"389.94,-457.84 379.35,-458.25 387.88,-464.53 389.94,-457.84\"/>\n",
       "</g>\n",
       "<!-- R0_overall&#45;&gt;pc_overall -->\n",
       "<g id=\"edge7\" class=\"edge\">\n",
       "<title>R0_overall&#45;&gt;pc_overall</title>\n",
       "<path fill=\"none\" stroke=\"black\" d=\"M832.63,-408.4C848.06,-392.93 867.34,-373.59 883.82,-357.07\"/>\n",
       "<polygon fill=\"black\" stroke=\"black\" points=\"886,-359.84 890.59,-350.28 881.05,-354.89 886,-359.84\"/>\n",
       "</g>\n",
       "<!-- phi -->\n",
       "<g id=\"node8\" class=\"node\">\n",
       "<title>phi</title>\n",
       "<ellipse fill=\"none\" stroke=\"black\" cx=\"595.5\" cy=\"-202.98\" rx=\"42.6\" ry=\"40.66\"/>\n",
       "<text xml:space=\"preserve\" text-anchor=\"middle\" x=\"595.5\" y=\"-214.43\" font-family=\"Times New Roman,serif\" font-size=\"14.00\">phi</text>\n",
       "<text xml:space=\"preserve\" text-anchor=\"middle\" x=\"595.5\" y=\"-197.93\" font-family=\"Times New Roman,serif\" font-size=\"14.00\">~</text>\n",
       "<text xml:space=\"preserve\" text-anchor=\"middle\" x=\"595.5\" y=\"-181.43\" font-family=\"Times New Roman,serif\" font-size=\"14.00\">Gamma</text>\n",
       "</g>\n",
       "<!-- phi&#45;&gt;y -->\n",
       "<g id=\"edge14\" class=\"edge\">\n",
       "<title>phi&#45;&gt;y</title>\n",
       "<path fill=\"none\" stroke=\"black\" d=\"M576.48,-166.33C568.82,-153.91 559.23,-140.43 548.5,-129.82 543.12,-124.5 537.05,-119.47 530.74,-114.81\"/>\n",
       "<polygon fill=\"black\" stroke=\"black\" points=\"532.84,-112 522.64,-109.13 528.82,-117.74 532.84,-112\"/>\n",
       "</g>\n",
       "<!-- sd_alpha -->\n",
       "<g id=\"node9\" class=\"node\">\n",
       "<title>sd_alpha</title>\n",
       "<ellipse fill=\"none\" stroke=\"black\" cx=\"174.5\" cy=\"-554.93\" rx=\"57.98\" ry=\"40.66\"/>\n",
       "<text xml:space=\"preserve\" text-anchor=\"middle\" x=\"174.5\" y=\"-566.38\" font-family=\"Times New Roman,serif\" font-size=\"14.00\">sd_alpha</text>\n",
       "<text xml:space=\"preserve\" text-anchor=\"middle\" x=\"174.5\" y=\"-549.88\" font-family=\"Times New Roman,serif\" font-size=\"14.00\">~</text>\n",
       "<text xml:space=\"preserve\" text-anchor=\"middle\" x=\"174.5\" y=\"-533.38\" font-family=\"Times New Roman,serif\" font-size=\"14.00\">HalfNormal</text>\n",
       "</g>\n",
       "<!-- sd_alpha&#45;&gt;alpha_state -->\n",
       "<g id=\"edge8\" class=\"edge\">\n",
       "<title>sd_alpha&#45;&gt;alpha_state</title>\n",
       "<path fill=\"none\" stroke=\"black\" d=\"M173.46,-513.92C173.25,-506.14 173.04,-497.88 172.83,-489.8\"/>\n",
       "<polygon fill=\"black\" stroke=\"black\" points=\"176.33,-489.97 172.58,-480.06 169.34,-490.15 176.33,-489.97\"/>\n",
       "</g>\n",
       "<!-- pc_state -->\n",
       "<g id=\"node10\" class=\"node\">\n",
       "<title>pc_state</title>\n",
       "<polygon fill=\"none\" stroke=\"black\" points=\"373.62,-109.91 283.37,-109.91 283.37,-52.41 373.62,-52.41 373.62,-109.91\"/>\n",
       "<text xml:space=\"preserve\" text-anchor=\"middle\" x=\"328.5\" y=\"-92.61\" font-family=\"Times New Roman,serif\" font-size=\"14.00\">pc_state</text>\n",
       "<text xml:space=\"preserve\" text-anchor=\"middle\" x=\"328.5\" y=\"-76.11\" font-family=\"Times New Roman,serif\" font-size=\"14.00\">~</text>\n",
       "<text xml:space=\"preserve\" text-anchor=\"middle\" x=\"328.5\" y=\"-59.61\" font-family=\"Times New Roman,serif\" font-size=\"14.00\">Deterministic</text>\n",
       "</g>\n",
       "<!-- beta0_state -->\n",
       "<g id=\"node13\" class=\"node\">\n",
       "<title>beta0_state</title>\n",
       "<polygon fill=\"none\" stroke=\"black\" points=\"373.62,-349.04 283.37,-349.04 283.37,-291.54 373.62,-291.54 373.62,-349.04\"/>\n",
       "<text xml:space=\"preserve\" text-anchor=\"middle\" x=\"328.5\" y=\"-331.74\" font-family=\"Times New Roman,serif\" font-size=\"14.00\">beta0_state</text>\n",
       "<text xml:space=\"preserve\" text-anchor=\"middle\" x=\"328.5\" y=\"-315.24\" font-family=\"Times New Roman,serif\" font-size=\"14.00\">~</text>\n",
       "<text xml:space=\"preserve\" text-anchor=\"middle\" x=\"328.5\" y=\"-298.74\" font-family=\"Times New Roman,serif\" font-size=\"14.00\">Deterministic</text>\n",
       "</g>\n",
       "<!-- log_beta0_state&#45;&gt;beta0_state -->\n",
       "<g id=\"edge3\" class=\"edge\">\n",
       "<title>log_beta0_state&#45;&gt;beta0_state</title>\n",
       "<path fill=\"none\" stroke=\"black\" d=\"M320.01,-396.6C321.33,-384.89 322.77,-372.11 324.08,-360.45\"/>\n",
       "<polygon fill=\"black\" stroke=\"black\" points=\"327.53,-361.09 325.18,-350.76 320.58,-360.3 327.53,-361.09\"/>\n",
       "</g>\n",
       "<!-- R0_state -->\n",
       "<g id=\"node12\" class=\"node\">\n",
       "<title>R0_state</title>\n",
       "<polygon fill=\"none\" stroke=\"black\" points=\"373.62,-231.73 283.37,-231.73 283.37,-174.23 373.62,-174.23 373.62,-231.73\"/>\n",
       "<text xml:space=\"preserve\" text-anchor=\"middle\" x=\"328.5\" y=\"-214.43\" font-family=\"Times New Roman,serif\" font-size=\"14.00\">R0_state</text>\n",
       "<text xml:space=\"preserve\" text-anchor=\"middle\" x=\"328.5\" y=\"-197.93\" font-family=\"Times New Roman,serif\" font-size=\"14.00\">~</text>\n",
       "<text xml:space=\"preserve\" text-anchor=\"middle\" x=\"328.5\" y=\"-181.43\" font-family=\"Times New Roman,serif\" font-size=\"14.00\">Deterministic</text>\n",
       "</g>\n",
       "<!-- R0_state&#45;&gt;pc_state -->\n",
       "<g id=\"edge5\" class=\"edge\">\n",
       "<title>R0_state&#45;&gt;pc_state</title>\n",
       "<path fill=\"none\" stroke=\"black\" d=\"M328.5,-173.88C328.5,-158.26 328.5,-138.57 328.5,-121.44\"/>\n",
       "<polygon fill=\"black\" stroke=\"black\" points=\"332,-121.59 328.5,-111.59 325,-121.59 332,-121.59\"/>\n",
       "</g>\n",
       "<!-- beta0_state&#45;&gt;R0_state -->\n",
       "<g id=\"edge4\" class=\"edge\">\n",
       "<title>beta0_state&#45;&gt;R0_state</title>\n",
       "<path fill=\"none\" stroke=\"black\" d=\"M328.5,-291.08C328.5,-276.74 328.5,-259.07 328.5,-243.4\"/>\n",
       "<polygon fill=\"black\" stroke=\"black\" points=\"332,-243.41 328.5,-233.41 325,-243.41 332,-243.41\"/>\n",
       "</g>\n",
       "<!-- Re -->\n",
       "<g id=\"node17\" class=\"node\">\n",
       "<title>Re</title>\n",
       "<polygon fill=\"none\" stroke=\"black\" points=\"509.62,-231.73 419.37,-231.73 419.37,-174.23 509.62,-174.23 509.62,-231.73\"/>\n",
       "<text xml:space=\"preserve\" text-anchor=\"middle\" x=\"464.5\" y=\"-214.43\" font-family=\"Times New Roman,serif\" font-size=\"14.00\">Re</text>\n",
       "<text xml:space=\"preserve\" text-anchor=\"middle\" x=\"464.5\" y=\"-197.93\" font-family=\"Times New Roman,serif\" font-size=\"14.00\">~</text>\n",
       "<text xml:space=\"preserve\" text-anchor=\"middle\" x=\"464.5\" y=\"-181.43\" font-family=\"Times New Roman,serif\" font-size=\"14.00\">Deterministic</text>\n",
       "</g>\n",
       "<!-- beta0_state&#45;&gt;Re -->\n",
       "<g id=\"edge11\" class=\"edge\">\n",
       "<title>beta0_state&#45;&gt;Re</title>\n",
       "<path fill=\"none\" stroke=\"black\" d=\"M361.77,-291.08C380.18,-275.47 403.24,-255.92 422.84,-239.3\"/>\n",
       "<polygon fill=\"black\" stroke=\"black\" points=\"425.05,-242.01 430.42,-232.87 420.53,-236.67 425.05,-242.01\"/>\n",
       "</g>\n",
       "<!-- alpha_state&#45;&gt;y -->\n",
       "<g id=\"edge16\" class=\"edge\">\n",
       "<title>alpha_state&#45;&gt;y</title>\n",
       "<path fill=\"none\" stroke=\"black\" d=\"M211.09,-409.43C218.94,-404.8 227.3,-400.39 235.5,-396.95 414.53,-321.79 539.51,-413 647.5,-251.63 677.61,-206.64 680.34,-172.86 647.5,-129.82 634.81,-113.19 588,-100.94 546.12,-93.02\"/>\n",
       "<polygon fill=\"black\" stroke=\"black\" points=\"547,-89.63 536.53,-91.28 545.74,-96.51 547,-89.63\"/>\n",
       "</g>\n",
       "<!-- delta_year&#45;&gt;y -->\n",
       "<g id=\"edge15\" class=\"edge\">\n",
       "<title>delta_year&#45;&gt;y</title>\n",
       "<path fill=\"none\" stroke=\"black\" d=\"M823.61,-165.81C813.65,-152.41 800.67,-138.39 785.5,-129.82 746,-107.5 627.04,-94.11 547.95,-87.44\"/>\n",
       "<polygon fill=\"black\" stroke=\"black\" points=\"548.35,-83.96 538.1,-86.63 547.78,-90.94 548.35,-83.96\"/>\n",
       "</g>\n",
       "<!-- beta -->\n",
       "<g id=\"node16\" class=\"node\">\n",
       "<title>beta</title>\n",
       "<ellipse fill=\"none\" stroke=\"black\" cx=\"961.5\" cy=\"-202.98\" rx=\"41.01\" ry=\"40.66\"/>\n",
       "<text xml:space=\"preserve\" text-anchor=\"middle\" x=\"961.5\" y=\"-214.43\" font-family=\"Times New Roman,serif\" font-size=\"14.00\">beta</text>\n",
       "<text xml:space=\"preserve\" text-anchor=\"middle\" x=\"961.5\" y=\"-197.93\" font-family=\"Times New Roman,serif\" font-size=\"14.00\">~</text>\n",
       "<text xml:space=\"preserve\" text-anchor=\"middle\" x=\"961.5\" y=\"-181.43\" font-family=\"Times New Roman,serif\" font-size=\"14.00\">Normal</text>\n",
       "</g>\n",
       "<!-- beta&#45;&gt;y -->\n",
       "<g id=\"edge12\" class=\"edge\">\n",
       "<title>beta&#45;&gt;y</title>\n",
       "<path fill=\"none\" stroke=\"black\" d=\"M943.66,-166.3C934.96,-152.62 923.17,-138.28 908.5,-129.82 848.97,-95.48 656.34,-85.87 548.46,-83.19\"/>\n",
       "<polygon fill=\"black\" stroke=\"black\" points=\"548.61,-79.69 538.53,-82.96 548.44,-86.69 548.61,-79.69\"/>\n",
       "</g>\n",
       "<!-- Re&#45;&gt;y -->\n",
       "<g id=\"edge17\" class=\"edge\">\n",
       "<title>Re&#45;&gt;y</title>\n",
       "<path fill=\"none\" stroke=\"black\" d=\"M466.61,-173.88C467.52,-161.78 468.61,-147.23 469.65,-133.33\"/>\n",
       "<polygon fill=\"black\" stroke=\"black\" points=\"473.14,-133.61 470.4,-123.38 466.16,-133.09 473.14,-133.61\"/>\n",
       "</g>\n",
       "</g>\n",
       "</svg>\n"
      ],
      "text/plain": [
       "<graphviz.graphs.Digraph at 0x266f6388d60>"
      ]
     },
     "execution_count": 8,
     "metadata": {},
     "output_type": "execute_result"
    }
   ],
   "source": [
    "pm.model_to_graphviz(bhm)"
   ]
  },
  {
   "cell_type": "code",
   "execution_count": 9,
   "id": "6e87ce60",
   "metadata": {},
   "outputs": [
    {
     "name": "stdout",
     "output_type": "stream",
     "text": [
      "N observations: 17337\n",
      "Covariate matrix shape: (17337, 9)\n",
      "states (S): 39 years (T): 8\n",
      "Number of model free random variables: 11\n",
      "List of free RV names: ['mu_log_beta0', 'sd_log_beta0', 'log_beta0_state', 'mu_alpha', 'sd_alpha', 'alpha_state', 'sd_year', 'delta_year', 'beta', 'kappa', 'phi']\n"
     ]
    }
   ],
   "source": [
    "# run in notebook (fresh kernel state)\n",
    "print(\"N observations:\", len(y_obs))\n",
    "print(\"Covariate matrix shape:\", X.shape)\n",
    "print(\"states (S):\", S, \"years (T):\", T)\n",
    "print(\"Number of model free random variables:\", len(bhm.free_RVs))\n",
    "print(\"List of free RV names:\", [v.name for v in bhm.free_RVs])"
   ]
  },
  {
   "cell_type": "code",
   "execution_count": 10,
   "id": "33047e6b",
   "metadata": {},
   "outputs": [
    {
     "name": "stderr",
     "output_type": "stream",
     "text": [
      "Initializing NUTS using jitter+adapt_diag...\n",
      "Sequential sampling (1 chains in 1 job)\n",
      "NUTS: [mu_log_beta0, sd_log_beta0, log_beta0_state, mu_alpha, sd_alpha, alpha_state, sd_year, delta_year, beta, kappa, phi]\n"
     ]
    },
    {
     "data": {
      "text/html": [
       "<pre style=\"white-space:pre;overflow-x:auto;line-height:normal;font-family:Menlo,'DejaVu Sans Mono',consolas,'Courier New',monospace\">c:\\Users\\ams21\\anaconda3\\envs\\measles-threshold\\lib\\site-packages\\rich\\live.py:231: UserWarning: install \n",
       "\"ipywidgets\" for Jupyter support\n",
       "  warnings.warn('install \"ipywidgets\" for Jupyter support')\n",
       "</pre>\n"
      ],
      "text/plain": [
       "c:\\Users\\ams21\\anaconda3\\envs\\measles-threshold\\lib\\site-packages\\rich\\live.py:231: UserWarning: install \n",
       "\"ipywidgets\" for Jupyter support\n",
       "  warnings.warn('install \"ipywidgets\" for Jupyter support')\n"
      ]
     },
     "metadata": {},
     "output_type": "display_data"
    },
    {
     "data": {
      "text/html": [
       "<pre style=\"white-space:pre;overflow-x:auto;line-height:normal;font-family:Menlo,'DejaVu Sans Mono',consolas,'Courier New',monospace\">c:\\Users\\ams21\\anaconda3\\envs\\measles-threshold\\lib\\site-packages\\pytensor\\scalar\\basic.py:2094: RuntimeWarning: \n",
       "invalid value encountered in divide\n",
       "  return x / y\n",
       "</pre>\n"
      ],
      "text/plain": [
       "c:\\Users\\ams21\\anaconda3\\envs\\measles-threshold\\lib\\site-packages\\pytensor\\scalar\\basic.py:2094: RuntimeWarning: \n",
       "invalid value encountered in divide\n",
       "  return x / y\n"
      ]
     },
     "metadata": {},
     "output_type": "display_data"
    },
    {
     "data": {
      "text/html": [
       "<pre style=\"white-space:pre;overflow-x:auto;line-height:normal;font-family:Menlo,'DejaVu Sans Mono',consolas,'Courier New',monospace\">c:\\Users\\ams21\\anaconda3\\envs\\measles-threshold\\lib\\site-packages\\pytensor\\scalar\\basic.py:2052: RuntimeWarning: \n",
       "invalid value encountered in scalar subtract\n",
       "  return x - y\n",
       "</pre>\n"
      ],
      "text/plain": [
       "c:\\Users\\ams21\\anaconda3\\envs\\measles-threshold\\lib\\site-packages\\pytensor\\scalar\\basic.py:2052: RuntimeWarning: \n",
       "invalid value encountered in scalar subtract\n",
       "  return x - y\n"
      ]
     },
     "metadata": {},
     "output_type": "display_data"
    },
    {
     "data": {
      "text/html": [
       "<pre style=\"white-space:pre;overflow-x:auto;line-height:normal;font-family:Menlo,'DejaVu Sans Mono',consolas,'Courier New',monospace\">c:\\Users\\ams21\\anaconda3\\envs\\measles-threshold\\lib\\site-packages\\pytensor\\scalar\\basic.py:3023: RuntimeWarning: \n",
       "divide by zero encountered in log\n",
       "  return np.log(x)\n",
       "</pre>\n"
      ],
      "text/plain": [
       "c:\\Users\\ams21\\anaconda3\\envs\\measles-threshold\\lib\\site-packages\\pytensor\\scalar\\basic.py:3023: RuntimeWarning: \n",
       "divide by zero encountered in log\n",
       "  return np.log(x)\n"
      ]
     },
     "metadata": {},
     "output_type": "display_data"
    },
    {
     "data": {
      "text/html": [
       "<pre style=\"white-space:pre;overflow-x:auto;line-height:normal;font-family:Menlo,'DejaVu Sans Mono',consolas,'Courier New',monospace\">c:\\Users\\ams21\\anaconda3\\envs\\measles-threshold\\lib\\site-packages\\numpy\\_core\\fromnumeric.py:86: RuntimeWarning: \n",
       "invalid value encountered in reduce\n",
       "  return ufunc.reduce(obj, axis, dtype, out, **passkwargs)\n",
       "</pre>\n"
      ],
      "text/plain": [
       "c:\\Users\\ams21\\anaconda3\\envs\\measles-threshold\\lib\\site-packages\\numpy\\_core\\fromnumeric.py:86: RuntimeWarning: \n",
       "invalid value encountered in reduce\n",
       "  return ufunc.reduce(obj, axis, dtype, out, **passkwargs)\n"
      ]
     },
     "metadata": {},
     "output_type": "display_data"
    },
    {
     "data": {
      "text/html": [
       "<pre style=\"white-space:pre;overflow-x:auto;line-height:normal;font-family:Menlo,'DejaVu Sans Mono',consolas,'Courier New',monospace\">c:\\Users\\ams21\\anaconda3\\envs\\measles-threshold\\lib\\site-packages\\pytensor\\scalar\\basic.py:2094: RuntimeWarning: \n",
       "divide by zero encountered in divide\n",
       "  return x / y\n",
       "</pre>\n"
      ],
      "text/plain": [
       "c:\\Users\\ams21\\anaconda3\\envs\\measles-threshold\\lib\\site-packages\\pytensor\\scalar\\basic.py:2094: RuntimeWarning: \n",
       "divide by zero encountered in divide\n",
       "  return x / y\n"
      ]
     },
     "metadata": {},
     "output_type": "display_data"
    },
    {
     "data": {
      "text/html": [
       "<pre style=\"white-space:pre;overflow-x:auto;line-height:normal;font-family:Menlo,'DejaVu Sans Mono',consolas,'Courier New',monospace\">c:\\Users\\ams21\\anaconda3\\envs\\measles-threshold\\lib\\site-packages\\pytensor\\scalar\\basic.py:1952: RuntimeWarning: \n",
       "invalid value encountered in scalar add\n",
       "  return sum(inputs)\n",
       "</pre>\n"
      ],
      "text/plain": [
       "c:\\Users\\ams21\\anaconda3\\envs\\measles-threshold\\lib\\site-packages\\pytensor\\scalar\\basic.py:1952: RuntimeWarning: \n",
       "invalid value encountered in scalar add\n",
       "  return sum(inputs)\n"
      ]
     },
     "metadata": {},
     "output_type": "display_data"
    },
    {
     "data": {
      "text/html": [
       "<pre style=\"white-space:pre;overflow-x:auto;line-height:normal;font-family:Menlo,'DejaVu Sans Mono',consolas,'Courier New',monospace\">c:\\Users\\ams21\\anaconda3\\envs\\measles-threshold\\lib\\site-packages\\pytensor\\scalar\\basic.py:2094: RuntimeWarning: \n",
       "overflow encountered in divide\n",
       "  return x / y\n",
       "</pre>\n"
      ],
      "text/plain": [
       "c:\\Users\\ams21\\anaconda3\\envs\\measles-threshold\\lib\\site-packages\\pytensor\\scalar\\basic.py:2094: RuntimeWarning: \n",
       "overflow encountered in divide\n",
       "  return x / y\n"
      ]
     },
     "metadata": {},
     "output_type": "display_data"
    },
    {
     "data": {
      "text/html": [
       "<pre style=\"white-space:pre;overflow-x:auto;line-height:normal;font-family:Menlo,'DejaVu Sans Mono',consolas,'Courier New',monospace\">c:\\Users\\ams21\\anaconda3\\envs\\measles-threshold\\lib\\site-packages\\pytensor\\scalar\\basic.py:3191: RuntimeWarning: \n",
       "overflow encountered in exp\n",
       "  return np.exp(x)\n",
       "</pre>\n"
      ],
      "text/plain": [
       "c:\\Users\\ams21\\anaconda3\\envs\\measles-threshold\\lib\\site-packages\\pytensor\\scalar\\basic.py:3191: RuntimeWarning: \n",
       "overflow encountered in exp\n",
       "  return np.exp(x)\n"
      ]
     },
     "metadata": {},
     "output_type": "display_data"
    },
    {
     "data": {
      "text/html": [
       "<pre style=\"white-space:pre;overflow-x:auto;line-height:normal;font-family:Menlo,'DejaVu Sans Mono',consolas,'Courier New',monospace\"></pre>\n"
      ],
      "text/plain": []
     },
     "metadata": {},
     "output_type": "display_data"
    },
    {
     "ename": "ValueError",
     "evalue": "Not enough samples to build a trace.",
     "output_type": "error",
     "traceback": [
      "\u001b[1;31m---------------------------------------------------------------------------\u001b[0m",
      "\u001b[1;31mValueError\u001b[0m                                Traceback (most recent call last)",
      "Cell \u001b[1;32mIn[10], line 3\u001b[0m\n\u001b[0;32m      1\u001b[0m \u001b[38;5;66;03m# small trial run to test sampler behavior\u001b[39;00m\n\u001b[0;32m      2\u001b[0m \u001b[38;5;28;01mwith\u001b[39;00m bhm:\n\u001b[1;32m----> 3\u001b[0m     idata_small \u001b[38;5;241m=\u001b[39m \u001b[43mpm\u001b[49m\u001b[38;5;241;43m.\u001b[39;49m\u001b[43msample\u001b[49m\u001b[43m(\u001b[49m\u001b[43mdraws\u001b[49m\u001b[38;5;241;43m=\u001b[39;49m\u001b[38;5;241;43m200\u001b[39;49m\u001b[43m,\u001b[49m\u001b[43m \u001b[49m\u001b[43mtune\u001b[49m\u001b[38;5;241;43m=\u001b[39;49m\u001b[38;5;241;43m200\u001b[39;49m\u001b[43m,\u001b[49m\u001b[43m \u001b[49m\u001b[43mchains\u001b[49m\u001b[38;5;241;43m=\u001b[39;49m\u001b[38;5;241;43m1\u001b[39;49m\u001b[43m,\u001b[49m\u001b[43m \u001b[49m\u001b[43mcores\u001b[49m\u001b[38;5;241;43m=\u001b[39;49m\u001b[38;5;241;43m1\u001b[39;49m\u001b[43m,\u001b[49m\u001b[43m \u001b[49m\u001b[43mprogressbar\u001b[49m\u001b[38;5;241;43m=\u001b[39;49m\u001b[38;5;28;43;01mTrue\u001b[39;49;00m\u001b[43m,\u001b[49m\u001b[43m \u001b[49m\u001b[43mrandom_seed\u001b[49m\u001b[38;5;241;43m=\u001b[39;49m\u001b[38;5;241;43m42\u001b[39;49m\u001b[43m)\u001b[49m\n",
      "File \u001b[1;32mc:\\Users\\ams21\\anaconda3\\envs\\measles-threshold\\lib\\site-packages\\pymc\\sampling\\mcmc.py:964\u001b[0m, in \u001b[0;36msample\u001b[1;34m(draws, tune, chains, cores, random_seed, progressbar, progressbar_theme, step, var_names, nuts_sampler, initvals, init, jitter_max_retries, n_init, trace, discard_tuned_samples, compute_convergence_checks, keep_warning_stat, return_inferencedata, idata_kwargs, nuts_sampler_kwargs, callback, mp_ctx, blas_cores, model, compile_kwargs, **kwargs)\u001b[0m\n\u001b[0;32m    960\u001b[0m t_sampling \u001b[38;5;241m=\u001b[39m time\u001b[38;5;241m.\u001b[39mtime() \u001b[38;5;241m-\u001b[39m t_start\n\u001b[0;32m    962\u001b[0m \u001b[38;5;66;03m# Packaging, validating and returning the result was extracted\u001b[39;00m\n\u001b[0;32m    963\u001b[0m \u001b[38;5;66;03m# into a function to make it easier to test and refactor.\u001b[39;00m\n\u001b[1;32m--> 964\u001b[0m \u001b[38;5;28;01mreturn\u001b[39;00m \u001b[43m_sample_return\u001b[49m\u001b[43m(\u001b[49m\n\u001b[0;32m    965\u001b[0m \u001b[43m    \u001b[49m\u001b[43mrun\u001b[49m\u001b[38;5;241;43m=\u001b[39;49m\u001b[43mrun\u001b[49m\u001b[43m,\u001b[49m\n\u001b[0;32m    966\u001b[0m \u001b[43m    \u001b[49m\u001b[43mtraces\u001b[49m\u001b[38;5;241;43m=\u001b[39;49m\u001b[43mtrace\u001b[49m\u001b[43m \u001b[49m\u001b[38;5;28;43;01mif\u001b[39;49;00m\u001b[43m \u001b[49m\u001b[38;5;28;43misinstance\u001b[39;49m\u001b[43m(\u001b[49m\u001b[43mtrace\u001b[49m\u001b[43m,\u001b[49m\u001b[43m \u001b[49m\u001b[43mZarrTrace\u001b[49m\u001b[43m)\u001b[49m\u001b[43m \u001b[49m\u001b[38;5;28;43;01melse\u001b[39;49;00m\u001b[43m \u001b[49m\u001b[43mtraces\u001b[49m\u001b[43m,\u001b[49m\n\u001b[0;32m    967\u001b[0m \u001b[43m    \u001b[49m\u001b[43mtune\u001b[49m\u001b[38;5;241;43m=\u001b[39;49m\u001b[43mtune\u001b[49m\u001b[43m,\u001b[49m\n\u001b[0;32m    968\u001b[0m \u001b[43m    \u001b[49m\u001b[43mt_sampling\u001b[49m\u001b[38;5;241;43m=\u001b[39;49m\u001b[43mt_sampling\u001b[49m\u001b[43m,\u001b[49m\n\u001b[0;32m    969\u001b[0m \u001b[43m    \u001b[49m\u001b[43mdiscard_tuned_samples\u001b[49m\u001b[38;5;241;43m=\u001b[39;49m\u001b[43mdiscard_tuned_samples\u001b[49m\u001b[43m,\u001b[49m\n\u001b[0;32m    970\u001b[0m \u001b[43m    \u001b[49m\u001b[43mcompute_convergence_checks\u001b[49m\u001b[38;5;241;43m=\u001b[39;49m\u001b[43mcompute_convergence_checks\u001b[49m\u001b[43m,\u001b[49m\n\u001b[0;32m    971\u001b[0m \u001b[43m    \u001b[49m\u001b[43mreturn_inferencedata\u001b[49m\u001b[38;5;241;43m=\u001b[39;49m\u001b[43mreturn_inferencedata\u001b[49m\u001b[43m,\u001b[49m\n\u001b[0;32m    972\u001b[0m \u001b[43m    \u001b[49m\u001b[43mkeep_warning_stat\u001b[49m\u001b[38;5;241;43m=\u001b[39;49m\u001b[43mkeep_warning_stat\u001b[49m\u001b[43m,\u001b[49m\n\u001b[0;32m    973\u001b[0m \u001b[43m    \u001b[49m\u001b[43midata_kwargs\u001b[49m\u001b[38;5;241;43m=\u001b[39;49m\u001b[43midata_kwargs\u001b[49m\u001b[43m \u001b[49m\u001b[38;5;129;43;01mor\u001b[39;49;00m\u001b[43m \u001b[49m\u001b[43m{\u001b[49m\u001b[43m}\u001b[49m\u001b[43m,\u001b[49m\n\u001b[0;32m    974\u001b[0m \u001b[43m    \u001b[49m\u001b[43mmodel\u001b[49m\u001b[38;5;241;43m=\u001b[39;49m\u001b[43mmodel\u001b[49m\u001b[43m,\u001b[49m\n\u001b[0;32m    975\u001b[0m \u001b[43m\u001b[49m\u001b[43m)\u001b[49m\n",
      "File \u001b[1;32mc:\\Users\\ams21\\anaconda3\\envs\\measles-threshold\\lib\\site-packages\\pymc\\sampling\\mcmc.py:1049\u001b[0m, in \u001b[0;36m_sample_return\u001b[1;34m(run, traces, tune, t_sampling, discard_tuned_samples, compute_convergence_checks, return_inferencedata, keep_warning_stat, idata_kwargs, model)\u001b[0m\n\u001b[0;32m   1047\u001b[0m \u001b[38;5;66;03m# Pick and slice chains to keep the maximum number of samples\u001b[39;00m\n\u001b[0;32m   1048\u001b[0m \u001b[38;5;28;01mif\u001b[39;00m discard_tuned_samples:\n\u001b[1;32m-> 1049\u001b[0m     traces, length \u001b[38;5;241m=\u001b[39m \u001b[43m_choose_chains\u001b[49m\u001b[43m(\u001b[49m\u001b[43mtraces\u001b[49m\u001b[43m,\u001b[49m\u001b[43m \u001b[49m\u001b[43mtune\u001b[49m\u001b[43m)\u001b[49m\n\u001b[0;32m   1050\u001b[0m \u001b[38;5;28;01melse\u001b[39;00m:\n\u001b[0;32m   1051\u001b[0m     traces, length \u001b[38;5;241m=\u001b[39m _choose_chains(traces, \u001b[38;5;241m0\u001b[39m)\n",
      "File \u001b[1;32mc:\\Users\\ams21\\anaconda3\\envs\\measles-threshold\\lib\\site-packages\\pymc\\backends\\base.py:624\u001b[0m, in \u001b[0;36m_choose_chains\u001b[1;34m(traces, tune)\u001b[0m\n\u001b[0;32m    622\u001b[0m lengths \u001b[38;5;241m=\u001b[39m [\u001b[38;5;28mmax\u001b[39m(\u001b[38;5;241m0\u001b[39m, \u001b[38;5;28mlen\u001b[39m(trace) \u001b[38;5;241m-\u001b[39m tune) \u001b[38;5;28;01mfor\u001b[39;00m trace \u001b[38;5;129;01min\u001b[39;00m traces]\n\u001b[0;32m    623\u001b[0m \u001b[38;5;28;01mif\u001b[39;00m \u001b[38;5;129;01mnot\u001b[39;00m \u001b[38;5;28msum\u001b[39m(lengths):\n\u001b[1;32m--> 624\u001b[0m     \u001b[38;5;28;01mraise\u001b[39;00m \u001b[38;5;167;01mValueError\u001b[39;00m(\u001b[38;5;124m\"\u001b[39m\u001b[38;5;124mNot enough samples to build a trace.\u001b[39m\u001b[38;5;124m\"\u001b[39m)\n\u001b[0;32m    626\u001b[0m idxs \u001b[38;5;241m=\u001b[39m np\u001b[38;5;241m.\u001b[39margsort(lengths)\n\u001b[0;32m    627\u001b[0m l_sort \u001b[38;5;241m=\u001b[39m np\u001b[38;5;241m.\u001b[39marray(lengths)[idxs]\n",
      "\u001b[1;31mValueError\u001b[0m: Not enough samples to build a trace."
     ]
    }
   ],
   "source": [
    "# small trial run to test sampler behavior\n",
    "with bhm:\n",
    "    idata_small = pm.sample(draws=200, tune=200, chains=1, cores=1, progressbar=True, random_seed=42)"
   ]
  },
  {
   "cell_type": "code",
   "execution_count": null,
   "id": "4e62f536",
   "metadata": {},
   "outputs": [
    {
     "name": "stderr",
     "output_type": "stream",
     "text": [
      "Initializing NUTS using jitter+adapt_diag...\n",
      "Multiprocess sampling (4 chains in 4 jobs)\n",
      "NUTS: [mu_log_beta0, sd_log_beta0, log_beta0_state, mu_alpha, sd_alpha, alpha_state, sd_year, delta_year, beta, kappa, phi]\n"
     ]
    },
    {
     "data": {
      "text/html": [
       "<pre style=\"white-space:pre;overflow-x:auto;line-height:normal;font-family:Menlo,'DejaVu Sans Mono',consolas,'Courier New',monospace\">c:\\Users\\ams21\\anaconda3\\envs\\measles-threshold\\lib\\site-packages\\rich\\live.py:231: UserWarning: install \n",
       "\"ipywidgets\" for Jupyter support\n",
       "  warnings.warn('install \"ipywidgets\" for Jupyter support')\n",
       "</pre>\n"
      ],
      "text/plain": [
       "c:\\Users\\ams21\\anaconda3\\envs\\measles-threshold\\lib\\site-packages\\rich\\live.py:231: UserWarning: install \n",
       "\"ipywidgets\" for Jupyter support\n",
       "  warnings.warn('install \"ipywidgets\" for Jupyter support')\n"
      ]
     },
     "metadata": {},
     "output_type": "display_data"
    }
   ],
   "source": [
    "with bhm: \n",
    "    trace1 = pm.sample(500)"
   ]
  },
  {
   "cell_type": "code",
   "execution_count": 7,
   "id": "e75783ac",
   "metadata": {},
   "outputs": [
    {
     "name": "stderr",
     "output_type": "stream",
     "text": [
      "Warning: Could not load \"C:\\Users\\ams21\\anaconda3\\envs\\measles-threshold\\Library\\bin\\gvplugin_pango.dll\" - It was found, so perhaps one of its dependents was not.  Try ldd.\n",
      "Warning: Could not load \"C:\\Users\\ams21\\anaconda3\\envs\\measles-threshold\\Library\\bin\\gvplugin_pango.dll\" - It was found, so perhaps one of its dependents was not.  Try ldd.\n",
      "Warning: Could not load \"C:\\Users\\ams21\\anaconda3\\envs\\measles-threshold\\Library\\bin\\gvplugin_pango.dll\" - It was found, so perhaps one of its dependents was not.  Try ldd.\n"
     ]
    },
    {
     "name": "stdout",
     "output_type": "stream",
     "text": [
      "Graphviz object: <class 'graphviz.graphs.Digraph'>\n",
      "digraph {\n",
      "\tpc_overall [label=\"pc_overall\n",
      "~\n",
      "Deterministic\" shape=box]\n",
      "\tkappa [label=\"kappa\n",
      "~\n",
      "Normal\" shape=ellipse]\n",
      "\tR0_overall [label=\"R0_overall\n",
      "~\n",
      "Deterministic\" shape=box]\n",
      "\tsd_alpha [label=\"sd_alpha\n",
      "~\n",
      "HalfNormal\" shape=ellipse]\n",
      "\tmu_alpha [label=\"mu_alpha\n",
      "~\n",
      "Normal\" shape=ellipse]\n",
      "\tmu_log_beta0 [label=\"mu_log_beta0\n",
      "~\n",
      "Normal\" shape=ellipse]\n",
      "\tphi [label=\"phi\n",
      "~\n",
      "Gamma\" shape=ellipse]\n",
      "\tsd_log_beta0 [label=\"sd_log_beta0\n",
      "~\n",
      "HalfNormal\" shape=ellipse]\n",
      "\tsd_year [label=\"sd_year\n",
      "~\n",
      "HalfNormal\" shape=ellipse]\n",
      "\tsubgraph cluster39 {\n",
      "\t\tlog_beta0_state [label=\"log_beta0_state\n",
      "~\n",
      "Normal\" shape=ellipse]\n",
      "\t\tpc_state [label=\"pc_state\n",
      "~\n",
      "Deterministic\" shape=box]\n",
      "\t\tR0_state [label=\"R0_state\n",
      "~\n",
      "Deterministic\" shape=box]\n",
      "\t\talpha_state [label=\"alpha_state\n",
      "~\n",
      "Normal\" shape=ellipse]\n",
      "\t\tbeta0_state [label=\"beta0_state\n",
      "~\n",
      "Deterministic\" shape=box]\n",
      "\t\tlabel=39 labeljust=r labelloc=b style=rounded\n",
      "\t}\n",
      "\tsubgraph cluster8 {\n",
      "\t\tdelta_year [label=\"delta_year\n",
      "~\n",
      "Normal\" shape=ellipse]\n",
      "\t\tlabel=8 labeljust=r labelloc=b style=rounded\n",
      "\t\n",
      "Render failed; traceback:\n"
     ]
    },
    {
     "name": "stderr",
     "output_type": "stream",
     "text": [
      "Traceback (most recent call last):\n",
      "  File \"c:\\Users\\ams21\\anaconda3\\envs\\measles-threshold\\lib\\site-packages\\graphviz\\backend\\execute.py\", line 88, in run_check\n",
      "    proc.check_returncode()\n",
      "  File \"c:\\Users\\ams21\\anaconda3\\envs\\measles-threshold\\lib\\subprocess.py\", line 457, in check_returncode\n",
      "    raise CalledProcessError(self.returncode, self.args, self.stdout,\n",
      "subprocess.CalledProcessError: Command '[WindowsPath('dot'), '-Kdot', '-Tpng']' returned non-zero exit status 3221225477.\n",
      "\n",
      "During handling of the above exception, another exception occurred:\n",
      "\n",
      "Traceback (most recent call last):\n",
      "  File \"C:\\Users\\ams21\\AppData\\Local\\Temp\\ipykernel_17916\\216341525.py\", line 12, in <module>\n",
      "    png = gv.pipe(format='png')\n",
      "  File \"c:\\Users\\ams21\\anaconda3\\envs\\measles-threshold\\lib\\site-packages\\graphviz\\piping.py\", line 104, in pipe\n",
      "    return self._pipe_legacy(format,\n",
      "  File \"c:\\Users\\ams21\\anaconda3\\envs\\measles-threshold\\lib\\site-packages\\graphviz\\_tools.py\", line 185, in wrapper\n",
      "    return func(*args, **kwargs)\n",
      "  File \"c:\\Users\\ams21\\anaconda3\\envs\\measles-threshold\\lib\\site-packages\\graphviz\\piping.py\", line 121, in _pipe_legacy\n",
      "    return self._pipe_future(format,\n",
      "  File \"c:\\Users\\ams21\\anaconda3\\envs\\measles-threshold\\lib\\site-packages\\graphviz\\piping.py\", line 161, in _pipe_future\n",
      "    return self._pipe_lines(*args, input_encoding=self.encoding, **kwargs)\n",
      "  File \"c:\\Users\\ams21\\anaconda3\\envs\\measles-threshold\\lib\\site-packages\\graphviz\\backend\\piping.py\", line 161, in pipe_lines\n",
      "    proc = execute.run_check(cmd, capture_output=True, quiet=quiet, **kwargs)\n",
      "  File \"c:\\Users\\ams21\\anaconda3\\envs\\measles-threshold\\lib\\site-packages\\graphviz\\backend\\execute.py\", line 90, in run_check\n",
      "    raise CalledProcessError(*e.args)\n",
      "graphviz.backend.execute.CalledProcessError: Command '[WindowsPath('dot'), '-Kdot', '-Tpng']' returned non-zero exit status 3221225477. [stderr: b'Warning: Could not load \"C:\\\\Users\\\\ams21\\\\anaconda3\\\\envs\\\\measles-threshold\\\\Library\\\\bin\\\\gvplugin_pango.dll\" - It was found, so perhaps one of its dependents was not.  Try ldd.\\r\\nWarning: Could not load \"C:\\\\Users\\\\ams21\\\\anaconda3\\\\envs\\\\measles-threshold\\\\Library\\\\bin\\\\gvplugin_pango.dll\" - It was found, so perhaps one of its dependents was not.  Try ldd.\\r\\nWarning: Could not load \"C:\\\\Users\\\\ams21\\\\anaconda3\\\\envs\\\\measles-threshold\\\\Library\\\\bin\\\\gvplugin_pango.dll\" - It was found, so perhaps one of its dependents was not.  Try ldd.\\r\\n']\n"
     ]
    }
   ],
   "source": [
    "import traceback\n",
    "try:\n",
    "    gv = pm.model_to_graphviz(bhm)\n",
    "    print('Graphviz object:', type(gv))\n",
    "    # Show DOT source (text)\n",
    "    try:\n",
    "        print(gv.source[:1000])  # show first 1000 chars\n",
    "    except Exception as e:\n",
    "        print('Could not print source:', e)\n",
    "    # Try to render to bytes here\n",
    "    try:\n",
    "        png = gv.pipe(format='png')\n",
    "        print('Rendered png bytes len:', len(png))\n",
    "    except Exception as e:\n",
    "        print('Render failed; traceback:')\n",
    "        traceback.print_exc()\n",
    "except Exception:\n",
    "    print('pm.model_to_graphviz raised an exception; full traceback:')\n",
    "    traceback.print_exc()"
   ]
  },
  {
   "cell_type": "markdown",
   "id": "91837284",
   "metadata": {},
   "source": [
    "Short smoke test: "
   ]
  },
  {
   "cell_type": "code",
   "execution_count": null,
   "id": "ee3aed66",
   "metadata": {},
   "outputs": [
    {
     "name": "stderr",
     "output_type": "stream",
     "text": [
      "Initializing NUTS using jitter+adapt_diag...\n",
      "Multiprocess sampling (2 chains in 2 jobs)\n",
      "NUTS: [mu_log_beta0, sd_log_beta0, log_beta0_state, mu_alpha, sd_alpha, alpha_state, sd_year, delta_year, beta, kappa, phi]\n"
     ]
    },
    {
     "data": {
      "text/html": [
       "<pre style=\"white-space:pre;overflow-x:auto;line-height:normal;font-family:Menlo,'DejaVu Sans Mono',consolas,'Courier New',monospace\">c:\\Users\\ams21\\anaconda3\\envs\\measles-threshold\\lib\\site-packages\\rich\\live.py:231: UserWarning: install \n",
       "\"ipywidgets\" for Jupyter support\n",
       "  warnings.warn('install \"ipywidgets\" for Jupyter support')\n",
       "</pre>\n"
      ],
      "text/plain": [
       "c:\\Users\\ams21\\anaconda3\\envs\\measles-threshold\\lib\\site-packages\\rich\\live.py:231: UserWarning: install \n",
       "\"ipywidgets\" for Jupyter support\n",
       "  warnings.warn('install \"ipywidgets\" for Jupyter support')\n"
      ]
     },
     "metadata": {},
     "output_type": "display_data"
    }
   ],
   "source": [
    "with bhm: \n",
    "    idata_test = pm.sample(500, tune=500, chains=2, target_accept=0.9, progressbar=True)\n",
    "az.summary(idata_test, var_names=['mu_log_beta0', 'sd_log_beta0', 'phi', 'kappa'])"
   ]
  }
 ],
 "metadata": {
  "kernelspec": {
   "display_name": "measles-threshold",
   "language": "python",
   "name": "python3"
  },
  "language_info": {
   "codemirror_mode": {
    "name": "ipython",
    "version": 3
   },
   "file_extension": ".py",
   "mimetype": "text/x-python",
   "name": "python",
   "nbconvert_exporter": "python",
   "pygments_lexer": "ipython3",
   "version": "3.10.19"
  }
 },
 "nbformat": 4,
 "nbformat_minor": 5
}
